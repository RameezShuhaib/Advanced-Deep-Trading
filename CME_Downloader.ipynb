{
  "nbformat": 4,
  "nbformat_minor": 0,
  "metadata": {
    "colab": {
      "name": "CME_Downloader.ipynb",
      "provenance": [],
      "collapsed_sections": [],
      "authorship_tag": "ABX9TyPDrn8/UZB079OzWIBAEaIf",
      "include_colab_link": true
    },
    "kernelspec": {
      "name": "python3",
      "display_name": "Python 3"
    }
  },
  "cells": [
    {
      "cell_type": "markdown",
      "metadata": {
        "id": "view-in-github",
        "colab_type": "text"
      },
      "source": [
        "<a href=\"https://colab.research.google.com/github/mpugna/Advanced-Deep-Trading/blob/master/CME_Downloader.ipynb\" target=\"_parent\"><img src=\"https://colab.research.google.com/assets/colab-badge.svg\" alt=\"Open In Colab\"/></a>"
      ]
    },
    {
      "cell_type": "code",
      "metadata": {
        "id": "g0S4a3bMmGVa",
        "colab_type": "code",
        "colab": {}
      },
      "source": [
        "\n",
        "import requests\n",
        "from requests.adapters import HTTPAdapter\n",
        "from requests.packages.urllib3.util.retry import Retry\n",
        "import urllib3\n",
        "urllib3.disable_warnings(urllib3.exceptions.InsecureRequestWarning)\n",
        "\n",
        "import numpy as np\n",
        "import pandas as pd\n",
        "import json\n",
        "import datetime as dt\n",
        "import calendar\n",
        "from pandas.tseries.offsets import BMonthEnd\n",
        "from typing import Union\n",
        "import time\n",
        "from random import randint"
      ],
      "execution_count": 0,
      "outputs": []
    },
    {
      "cell_type": "code",
      "metadata": {
        "id": "fQCTqEPDmHXy",
        "colab_type": "code",
        "colab": {}
      },
      "source": [
        "def month_str_to_num(month: str) -> int:\n",
        "    \"\"\"\n",
        "    Convert a month abbreviated with its first three letters\n",
        "    to the corresponding number.\n",
        "    \"\"\"\n",
        "    conversion = {\n",
        "        'jan': 1,\n",
        "        'feb': 2,\n",
        "        'mar': 3,\n",
        "        'apr': 4,\n",
        "        'may': 5,\n",
        "        'jun': 6,\n",
        "        'jul': 7,\n",
        "        'aug': 8,\n",
        "        'sep': 9,\n",
        "        'oct': 10,\n",
        "        'nov': 11,\n",
        "        'dec': 12,\n",
        "    }\n",
        "    if month.lower() in conversion.keys():\n",
        "        return conversion[month.lower()]\n",
        "    else:\n",
        "        raise ValueError('Cannot convert month <{}>'.format(month))\n",
        "        \n",
        "def str_date_to_datetime(x: str) -> dt.date:\n",
        "    x = ' '.join(x.split())  # collapse whitespaces\n",
        "    x = x.strip()  # remove trailing/leading whitespaces\n",
        "    x = x.lower()\n",
        "    three_letters_month, two_digits_year = x.split(' ')\n",
        "    month = month_str_to_num(three_letters_month)\n",
        "    year = 2000 + int(two_digits_year)\n",
        "    return third_friday_of_month(year, month)\n",
        "\n",
        "def third_friday_of_month(year: int, month: int) -> dt.date:\n",
        "    \"\"\"\n",
        "    Get the date corresponding to the third friday of the year/month specified.\n",
        "\n",
        "    example: calling option_expiration(2019, 10)\n",
        "             returns datetime.date(2019,10,18)\n",
        "    \"\"\"\n",
        "    day = 21 - (calendar.weekday(year, month, 1) + 2) % 7\n",
        "    return dt.date(year, month, day)\n",
        "\n",
        "\n",
        "def last_business_day_of_month(year: int, month: int) -> dt.date:\n",
        "    return BMonthEnd().rollforward(dt.date(year, month, 1)).date()\n",
        "\n",
        "\n",
        "def day_of_week(year: int, month: int, week: int, day_of_week: int) -> dt.date:\n",
        "    n_weeks = 0\n",
        "    for days_in_week in calendar.monthcalendar(year, month):\n",
        "      if days_in_week[day_of_week] != 0:\n",
        "        n_weeks += 1\n",
        "        if n_weeks == week:\n",
        "          return dt.date(year, month, days_in_week[day_of_week])\n",
        "\n",
        "    return None\n",
        "\n",
        "def monday_of_week(year: int, month: int, week: int) -> dt.date:\n",
        "    return day_of_week(year, month, week, 0)\n",
        "\n",
        "def wednesday_of_week(year: int, month: int, week: int) -> dt.date:\n",
        "    return day_of_week(year, month, week, 2)\n",
        "\n",
        "def friday_of_week(year: int, month: int, week: int) -> dt.date:\n",
        "    return day_of_week(year, month, week, 4)  "
      ],
      "execution_count": 0,
      "outputs": []
    },
    {
      "cell_type": "code",
      "metadata": {
        "id": "cpBqxLw5mM0C",
        "colab_type": "code",
        "colab": {}
      },
      "source": [
        "def get_options_details(proxies: dict=None) -> dict:\n",
        "    \"\"\"\n",
        "    For each options group retrieve the following informations:\n",
        "        - expiry label (e.g.- \"Mar 2020\")\n",
        "        - expiry month (e.g. 3)\n",
        "        - expiry year (e.g. 2020)\n",
        "        - expiry code (e.g. \"H0\")\n",
        "        - product id (e.g. 138)\n",
        "        - contract_id (e.g. \"EZH20\")\n",
        "        - trade_date (e.g. datetime.datetime(2020,3,20))\n",
        "    \"\"\"\n",
        "    url = 'https://www.cmegroup.com/CmeWS/mvc/Settlements/Options/TradeDateAndExpirations/133'\n",
        "    page = requests.get(url, proxies=proxies if proxies is not None else dict(), verify=False)\n",
        "    if page.status_code != 200:\n",
        "        raise ValueError(f'Cannot retrieve the page {url}. HTTP status code = {page.status_code}')\n",
        "\n",
        "    table = dict()\n",
        "    # For each options group in the returned json data extract\n",
        "    # the relevant data\n",
        "    for subset in page.json():\n",
        "        name = subset['name']  # group name, e.g. \"E-mini S&P 500 Options\"\n",
        "        \n",
        "        table[name] = dict()\n",
        "        # Get the details of the current options group\n",
        "        expirations = subset['expirations']\n",
        "        for expiry in expirations:\n",
        "            label = expiry['label']  # the expiry as a string, e.g. \"Mar 2020\"\n",
        "\n",
        "            table[name][label] = dict()\n",
        "            table[name][label]['month'] = expiry['expiration']['month']  # e.g. 3\n",
        "            table[name][label]['year'] = expiry['expiration']['year']    # e.g. 2020\n",
        "            table[name][label]['code'] = expiry['expiration']['code']    # e.g. \"H0\"\n",
        "            #table[name][label]['two_digits_code'] = expiry['expiration']['twoDigitsCode']  # e.g. \"H20\"\n",
        "            table[name][label]['product_id'] = expiry['productId']  # e.g. 138\n",
        "            table[name][label]['contract_id'] = expiry['contractId']  # e.g. \"EZH20\"\n",
        "            table[name][label]['trade_date'] = pd.to_datetime(expiry['lastTradeDate']['dateOnlyLongFormat']).date()\n",
        "\n",
        "    return table"
      ],
      "execution_count": 0,
      "outputs": []
    },
    {
      "cell_type": "code",
      "metadata": {
        "id": "vj1lUI6cmPf-",
        "colab_type": "code",
        "colab": {}
      },
      "source": [
        "def retrieve_options_chain(table: dict, proxies: dict=None) -> dict:\n",
        "    \"\"\"\n",
        "    Given a dictionary returned from the get_options_details() routine\n",
        "    retrieve the complete option chain for each expiry date.\n",
        "    \"\"\"\n",
        "    session = requests.Session()\n",
        "    retry = Retry(connect=3, backoff_factor=2.)\n",
        "    adapter = HTTPAdapter(max_retries=retry)\n",
        "    session.mount('http://', adapter)\n",
        "    session.mount('https://', adapter)\n",
        "    for name, details in table.items():\n",
        "        print(name)\n",
        "        for label, data in details.items():\n",
        "            product_id = data['product_id']\n",
        "            contract_id = data['contract_id']\n",
        "            code = data['code']\n",
        "            trade_date = data['trade_date']\n",
        "            print('   ', label)\n",
        "            \n",
        "            url = ''.join(\n",
        "                (\n",
        "                    f'https://www.cmegroup.com/CmeWS/mvc/Settlements/Options/Settlements//{product_id}/OOF?',\n",
        "                    f'monthYear={contract_id}&strategy=DEFAULT&optionProductId={product_id}&', \n",
        "                    f'optionExpiration={product_id}-{code}&',\n",
        "                    'tradeDate={:02d}%2F{:02d}%2F{:2d}&pageSize=1000'.format(trade_date.month, trade_date.day, trade_date.year),\n",
        "                )\n",
        "            )\n",
        "            #time.sleep(randint(5,60))   # randomly wait between 5 and 60 seconds\n",
        "            page = session.get(url, proxies=proxies if proxies is not None else dict(), verify=False)\n",
        "            if page.status_code == 200:\n",
        "                td = pd.to_datetime(page.json()['tradeDate'], dayfirst=True).date()\n",
        "                prices = pd.DataFrame(page.json()['settlements'])\n",
        "                prices = prices[prices['strike']!='Total']  # Remove the row with the totals\n",
        "                prices = prices[prices['settle']!='CAB']\n",
        "                prices['strike'] = pd.to_numeric(prices['strike'].str.replace(',', ''))\n",
        "                prices['settle'] = pd.to_numeric(prices['settle'].str.replace(',', ''))\n",
        "                prices['volume'] = pd.to_numeric(prices['volume'].str.replace(',', ''))\n",
        "                prices['openInterest'] = pd.to_numeric(prices['openInterest'].str.replace(',', ''))\n",
        "                prices['last'] = prices['last'].apply(lambda x: x.strip().lower().replace('a', '').replace('b', ''))\n",
        "                prices['last'] = prices['last'].str.strip().replace('-', np.nan)\n",
        "                prices['last'] = pd.to_numeric(prices['last'].str.replace(',', ''))\n",
        "                prices = prices[['strike', 'type', 'last', 'settle', 'volume', 'openInterest']]\n",
        "                prices = prices.rename(columns= {'openInterest': 'open_interest'})\n",
        "\n",
        "                table[name][label]['trade_date'] = td\n",
        "                table[name][label]['option_chain'] = prices\n",
        "    return table"
      ],
      "execution_count": 0,
      "outputs": []
    },
    {
      "cell_type": "code",
      "metadata": {
        "id": "gvpXZVRamTu7",
        "colab_type": "code",
        "colab": {}
      },
      "source": [
        "# Get list of uniques trade dates\n",
        "def get_trade_dates(table: dict) -> list:\n",
        "    td = list()\n",
        "    for key in table.keys():\n",
        "        for label in table[key]:\n",
        "            td.append(table[key][label]['trade_date'])\n",
        "    return sorted(list(set(td)))\n",
        "\n",
        "def get_futures_settlement_prices(trade_date: dt.date, proxies: dict=None) -> pd.DataFrame:\n",
        "    url = ''.join(\n",
        "        (\n",
        "            'https://www.cmegroup.com/CmeWS/mvc/Settlements/Futures/Settlements/133/FUT?', \n",
        "            'tradeDate={:02d}/{:02d}/{:4d}&strategy=DEFAULT&pageSize=50'.format(\n",
        "                trade_date.month, trade_date.day, trade_date.year)\n",
        "        )\n",
        "    )\n",
        "    page = requests.get(url, proxies=proxies if proxies is not None else dict(), verify=False)\n",
        "    \n",
        "    df = pd.DataFrame(page.json()['settlements'])\n",
        "    df = df[df['month'] != 'Total']\n",
        "    df = df[['month', 'last', 'settle', 'volume', 'openInterest']]\n",
        "    df['last'] = df['last'].str.lower().str.replace('a', '').str.replace('b', '').str.replace(',', '')\n",
        "    df['last'] = pd.to_numeric(df['last'])\n",
        "    df['settle'] = df['settle'].str.strip().str.replace(',', '')\n",
        "    df['settle'] = pd.to_numeric(df['settle'])\n",
        "    df['volume'] = df['volume'].str.strip().str.replace(',', '')\n",
        "    df['volume'] = pd.to_numeric(df['volume'])\n",
        "    df['openInterest'] = df['openInterest'].str.strip().str.replace(',', '')\n",
        "    df['openInterest'] = pd.to_numeric(df['openInterest'])\n",
        "    df['month'] = df['month'].apply(str_date_to_datetime)\n",
        "    df = df.rename(columns={'openInterest': 'open_interest', 'month': 'expiry'})\n",
        "    \n",
        "    return df\n",
        "\n",
        "def get_contracts_table(trade_dates: list, proxies: dict=None) -> dict:\n",
        "    futures = dict()\n",
        "    for trade_date in get_trade_dates(options_groups):\n",
        "        print(trade_date)\n",
        "        futures[trade_date] = get_futures_settlement_prices(trade_date, ersel_proxies())\n",
        "    return futures"
      ],
      "execution_count": 0,
      "outputs": []
    },
    {
      "cell_type": "code",
      "metadata": {
        "id": "zQUTlfkHmVRx",
        "colab_type": "code",
        "colab": {}
      },
      "source": [
        "def ersel_proxies():\n",
        "  return dict()"
      ],
      "execution_count": 0,
      "outputs": []
    },
    {
      "cell_type": "code",
      "metadata": {
        "id": "wcn5ekHEmY3a",
        "colab_type": "code",
        "colab": {
          "base_uri": "https://localhost:8080/",
          "height": 51
        },
        "outputId": "af0c113b-4937-4ee7-d649-b7adafbc747f"
      },
      "source": [
        "%%time\n",
        "options_groups = get_options_details(ersel_proxies())\n",
        "trade_dates = get_trade_dates(options_groups)"
      ],
      "execution_count": 19,
      "outputs": [
        {
          "output_type": "stream",
          "text": [
            "CPU times: user 16 ms, sys: 1.12 ms, total: 17.1 ms\n",
            "Wall time: 363 ms\n"
          ],
          "name": "stdout"
        }
      ]
    },
    {
      "cell_type": "code",
      "metadata": {
        "id": "s1tPY8wjrKxc",
        "colab_type": "code",
        "colab": {
          "base_uri": "https://localhost:8080/",
          "height": 102
        },
        "outputId": "a2c0d18a-5a5e-444e-ac78-a73b7ff2ebdd"
      },
      "source": [
        "option_types = list(options_groups.keys())\n",
        "option_types"
      ],
      "execution_count": 29,
      "outputs": [
        {
          "output_type": "execute_result",
          "data": {
            "text/plain": [
              "['E-mini S&P 500 Options',\n",
              " 'E-mini S&P 500 EOM Options',\n",
              " 'E-mini S&P 500 Monday Weekly Options',\n",
              " 'E-mini S&P 500 Weekly Options',\n",
              " 'E-mini S&P 500 Wednesday Weekly Options']"
            ]
          },
          "metadata": {
            "tags": []
          },
          "execution_count": 29
        }
      ]
    },
    {
      "cell_type": "code",
      "metadata": {
        "id": "DAkeD3kRPBbr",
        "colab_type": "code",
        "colab": {}
      },
      "source": [
        "option_dates = dict{\n",
        "  'E-mini S&P 500 Options',\n",
        "  'E-mini S&P 500 EOM Options',\n",
        "  'E-mini S&P 500 Monday Weekly Options',\n",
        "  'E-mini S&P 500 Weekly Options',\n",
        "  'E-mini S&P 500 Wednesday Weekly Options',\n",
        "}"
      ],
      "execution_count": 0,
      "outputs": []
    },
    {
      "cell_type": "code",
      "metadata": {
        "id": "J64d1ie2SreD",
        "colab_type": "code",
        "colab": {}
      },
      "source": [
        "def _get_year_month_from_str(x: str):\n",
        "  x = ' '.join(x.strip().lower().split())\n",
        "  month, year = x.split(' ')\n",
        "  month = month_str_to_num(month)\n",
        "  year = int(year)\n",
        "  return year, month\n",
        "\n",
        "def _get_year_month_week_from_str(x: str):\n",
        "  x = ' '.join(x.strip().lower().split())\n",
        "  _, date, year = x.split(' ')\n",
        "  week, month = date.split('-')\n",
        "  week = int(week)\n",
        "  month = month_str_to_num(month)\n",
        "  year = int(year)\n",
        "  return year, month, week"
      ],
      "execution_count": 0,
      "outputs": []
    },
    {
      "cell_type": "code",
      "metadata": {
        "id": "UXK8BURVOl3n",
        "colab_type": "code",
        "colab": {}
      },
      "source": [
        "for option_type in options_groups.keys():\n",
        "  if option_type == 'E-mini S&P 500 Options':\n",
        "    for expiry_label in options_groups[option_type].keys():\n",
        "      year, month = _get_year_month_from_str(expiry_label)\n",
        "      options_groups[option_type][expiry_label]['expiry'] = third_friday_of_month(year, month)\n",
        "      #print(expiry_label, third_friday_of_month(year, month))\n",
        "  elif option_type == 'E-mini S&P 500 EOM Options':\n",
        "    for expiry_label in options_groups[option_type].keys():\n",
        "      year, month = _get_year_month_from_str(expiry_label)\n",
        "      options_groups[option_type][expiry_label]['expiry'] = last_business_day_of_month(year, month)\n",
        "      #print(expiry_label, last_business_day_of_month(year, month))\n",
        "  elif option_type == 'E-mini S&P 500 Monday Weekly Options':\n",
        "    for expiry_label in options_groups[option_type].keys():\n",
        "      year, month, week = _get_year_month_week_from_str(expiry_label)\n",
        "      options_groups[option_type][expiry_label]['expiry'] = monday_of_week(year, month, week)\n",
        "      #print(expiry_label, monday_of_week(year, month, week))\n",
        "  elif option_type == 'E-mini S&P 500 Weekly Options':\n",
        "    for expiry_label in options_groups[option_type].keys():\n",
        "      year, month, week = _get_year_month_week_from_str(expiry_label)\n",
        "      options_groups[option_type][expiry_label]['expiry'] = friday_of_week(year, month, week)\n",
        "      #print(expiry_label, friday_of_week(year, month, week))\n",
        "  elif option_type == 'E-mini S&P 500 Wednesday Weekly Options':\n",
        "    for expiry_label in options_groups[option_type].keys():\n",
        "      year, month, week = _get_year_month_week_from_str(expiry_label)\n",
        "      options_groups[option_type][expiry_label]['expiry'] = wednesday_of_week(year, month, week)\n",
        "      #print(expiry_label, wednesday_of_week(year, month, week))"
      ],
      "execution_count": 0,
      "outputs": []
    },
    {
      "cell_type": "code",
      "metadata": {
        "id": "vAx47rVumZeF",
        "colab_type": "code",
        "colab": {
          "base_uri": "https://localhost:8080/",
          "height": 612
        },
        "outputId": "3cf7652d-ee81-401a-b036-2743961f2c4c"
      },
      "source": [
        "%%time\n",
        "options_chain = retrieve_options_chain(options_groups)"
      ],
      "execution_count": 50,
      "outputs": [
        {
          "output_type": "stream",
          "text": [
            "E-mini S&P 500 Options\n",
            "    Mar 2020\n",
            "    Jun 2020\n",
            "    Sep 2020\n",
            "    Dec 2020\n",
            "E-mini S&P 500 EOM Options\n",
            "    Jan 2020\n",
            "    Feb 2020\n",
            "    Mar 2020\n",
            "    Apr 2020\n",
            "    May 2020\n",
            "    Jun 2020\n",
            "E-mini S&P 500 Monday Weekly Options\n",
            "    Week 3-Jan 2020\n",
            "    Week 4-Jan 2020\n",
            "    Week 1-Feb 2020\n",
            "    Week 2-Feb 2020\n",
            "    Week 3-Feb 2020\n",
            "E-mini S&P 500 Weekly Options\n",
            "    Week 4-Jan 2020\n",
            "    Week 1-Feb 2020\n",
            "    Week 2-Feb 2020\n",
            "    Week 3-Feb 2020\n",
            "    Week 1-Mar 2020\n",
            "    Week 2-Mar 2020\n",
            "    Week 3-Apr 2020\n",
            "    Week 3-May 2020\n",
            "E-mini S&P 500 Wednesday Weekly Options\n",
            "    Week 4-Jan 2020\n",
            "    Week 5-Jan 2020\n",
            "    Week 1-Feb 2020\n",
            "    Week 2-Feb 2020\n",
            "    Week 3-Feb 2020\n",
            "CPU times: user 514 ms, sys: 12.5 ms, total: 526 ms\n",
            "Wall time: 4.98 s\n"
          ],
          "name": "stdout"
        }
      ]
    },
    {
      "cell_type": "code",
      "metadata": {
        "id": "9bWgmdd0mbIS",
        "colab_type": "code",
        "colab": {
          "base_uri": "https://localhost:8080/",
          "height": 85
        },
        "outputId": "721be62b-8bb4-4f47-aa3c-3907d8265075"
      },
      "source": [
        "futures = get_contracts_table(get_trade_dates(options_groups), ersel_proxies())"
      ],
      "execution_count": 107,
      "outputs": [
        {
          "output_type": "stream",
          "text": [
            "2020-01-21\n",
            "2020-01-22\n",
            "2020-01-24\n",
            "2020-01-27\n"
          ],
          "name": "stdout"
        }
      ]
    },
    {
      "cell_type": "code",
      "metadata": {
        "id": "O-4gIVXNmpau",
        "colab_type": "code",
        "colab": {}
      },
      "source": [
        "output = list()\n",
        "for trade_date, df in futures.items():\n",
        "  df_ = df.copy()\n",
        "  df_['trade_date'] = trade_date\n",
        "  output.append(df_)\n",
        "output = pd.concat(output, axis='index', sort=False)\n",
        "output.to_csv('./futures.csv')"
      ],
      "execution_count": 0,
      "outputs": []
    },
    {
      "cell_type": "code",
      "metadata": {
        "id": "jlVPzZjPq2Ds",
        "colab_type": "code",
        "colab": {}
      },
      "source": [
        "output = list()\n",
        "for opt_type in options_chain.keys():\n",
        "  for expiry_label in options_chain[opt_type].keys():\n",
        "    trade_date = options_chain[opt_type][expiry_label]['trade_date']\n",
        "    expiry_date = options_chain[opt_type][expiry_label]['expiry']\n",
        "    chain = options_chain[opt_type][expiry_label]['option_chain'].copy()\n",
        "    chain['trade_date'] = trade_date\n",
        "    chain['expiry'] = expiry_date\n",
        "    chain['opt_type'] = opt_type\n",
        "    output.append(chain)\n",
        "output = pd.concat(output, axis='index', sort=False)    \n",
        "output.to_csv('./options.csv')"
      ],
      "execution_count": 0,
      "outputs": []
    },
    {
      "cell_type": "code",
      "metadata": {
        "id": "w7R4jZ50fi1W",
        "colab_type": "code",
        "colab": {}
      },
      "source": [
        "from google.colab import files\n",
        "files.download(\"./futures.csv\")\n",
        "files.download(\"./options.csv\")"
      ],
      "execution_count": 0,
      "outputs": []
    },
    {
      "cell_type": "code",
      "metadata": {
        "id": "oNTzNGKRbNtN",
        "colab_type": "code",
        "colab": {
          "base_uri": "https://localhost:8080/",
          "height": 785
        },
        "outputId": "eb84d7ef-e9a9-4ef5-a9a4-344f10c49e1b"
      },
      "source": [
        "import smtplib\n",
        "\n",
        "server = smtplib.SMTP('smtp.mail.yahoo.com', 587)\n",
        "server.set_debuglevel(1)\n",
        "server.ehlo()\n",
        "server.starttls()\n",
        "server.ehlo\n",
        "server.login(\"power_teo@yahoo.fr\", \"Colab1942\")\n",
        "\n",
        "msg = \"COLAB WORK FINISH ALERT!\"\n",
        "server.sendmail(\"power_teo@yahoo.fr\", \"matteo.pugnaloni@ersel.it\", msg)\n",
        "server.quit()"
      ],
      "execution_count": 100,
      "outputs": [
        {
          "output_type": "stream",
          "text": [
            "send: 'ehlo [172.28.0.2]\\r\\n'\n",
            "reply: b'250-smtp425.mail.gq1.yahoo.com Hello [172.28.0.2] [35.230.38.223])\\r\\n'\n",
            "reply: b'250-PIPELINING\\r\\n'\n",
            "reply: b'250-ENHANCEDSTATUSCODES\\r\\n'\n",
            "reply: b'250-8BITMIME\\r\\n'\n",
            "reply: b'250-SIZE 41697280\\r\\n'\n",
            "reply: b'250 STARTTLS\\r\\n'\n",
            "reply: retcode (250); Msg: b'smtp425.mail.gq1.yahoo.com Hello [172.28.0.2] [35.230.38.223])\\nPIPELINING\\nENHANCEDSTATUSCODES\\n8BITMIME\\nSIZE 41697280\\nSTARTTLS'\n",
            "send: 'STARTTLS\\r\\n'\n",
            "reply: b'220 2.0.0 Ready to start TLS\\r\\n'\n",
            "reply: retcode (220); Msg: b'2.0.0 Ready to start TLS'\n",
            "send: 'ehlo [172.28.0.2]\\r\\n'\n",
            "reply: b'250-smtp425.mail.gq1.yahoo.com Hello [172.28.0.2] [35.230.38.223])\\r\\n'\n",
            "reply: b'250-PIPELINING\\r\\n'\n",
            "reply: b'250-ENHANCEDSTATUSCODES\\r\\n'\n",
            "reply: b'250-8BITMIME\\r\\n'\n",
            "reply: b'250-SIZE 41697280\\r\\n'\n",
            "reply: b'250 AUTH PLAIN LOGIN XOAUTH2 OAUTHBEARER\\r\\n'\n",
            "reply: retcode (250); Msg: b'smtp425.mail.gq1.yahoo.com Hello [172.28.0.2] [35.230.38.223])\\nPIPELINING\\nENHANCEDSTATUSCODES\\n8BITMIME\\nSIZE 41697280\\nAUTH PLAIN LOGIN XOAUTH2 OAUTHBEARER'\n",
            "send: 'AUTH PLAIN AHBvd2VyX3Rlb0B5YWhvby5mcgBDb2xhYjE5NDI=\\r\\n'\n",
            "reply: b'535 5.7.0 (#AUTH005) Too many bad auth attempts.\\r\\n'\n",
            "reply: retcode (535); Msg: b'5.7.0 (#AUTH005) Too many bad auth attempts.'\n",
            "send: 'AUTH LOGIN cG93ZXJfdGVvQHlhaG9vLmZy\\r\\n'\n"
          ],
          "name": "stderr"
        },
        {
          "output_type": "error",
          "ename": "SMTPServerDisconnected",
          "evalue": "ignored",
          "traceback": [
            "\u001b[0;31m---------------------------------------------------------------------------\u001b[0m",
            "\u001b[0;31mSMTPServerDisconnected\u001b[0m                    Traceback (most recent call last)",
            "\u001b[0;32m<ipython-input-100-7bb2701204f4>\u001b[0m in \u001b[0;36m<module>\u001b[0;34m()\u001b[0m\n\u001b[1;32m      6\u001b[0m \u001b[0mserver\u001b[0m\u001b[0;34m.\u001b[0m\u001b[0mstarttls\u001b[0m\u001b[0;34m(\u001b[0m\u001b[0;34m)\u001b[0m\u001b[0;34m\u001b[0m\u001b[0;34m\u001b[0m\u001b[0m\n\u001b[1;32m      7\u001b[0m \u001b[0mserver\u001b[0m\u001b[0;34m.\u001b[0m\u001b[0mehlo\u001b[0m\u001b[0;34m\u001b[0m\u001b[0;34m\u001b[0m\u001b[0m\n\u001b[0;32m----> 8\u001b[0;31m \u001b[0mserver\u001b[0m\u001b[0;34m.\u001b[0m\u001b[0mlogin\u001b[0m\u001b[0;34m(\u001b[0m\u001b[0;34m\"power_teo@yahoo.fr\"\u001b[0m\u001b[0;34m,\u001b[0m \u001b[0;34m\"Colab1942\"\u001b[0m\u001b[0;34m)\u001b[0m\u001b[0;34m\u001b[0m\u001b[0;34m\u001b[0m\u001b[0m\n\u001b[0m\u001b[1;32m      9\u001b[0m \u001b[0;34m\u001b[0m\u001b[0m\n\u001b[1;32m     10\u001b[0m \u001b[0mmsg\u001b[0m \u001b[0;34m=\u001b[0m \u001b[0;34m\"COLAB WORK FINISH ALERT!\"\u001b[0m\u001b[0;34m\u001b[0m\u001b[0;34m\u001b[0m\u001b[0m\n",
            "\u001b[0;32m/usr/lib/python3.6/smtplib.py\u001b[0m in \u001b[0;36mlogin\u001b[0;34m(self, user, password, initial_response_ok)\u001b[0m\n\u001b[1;32m    719\u001b[0m                 (code, resp) = self.auth(\n\u001b[1;32m    720\u001b[0m                     \u001b[0mauthmethod\u001b[0m\u001b[0;34m,\u001b[0m \u001b[0mgetattr\u001b[0m\u001b[0;34m(\u001b[0m\u001b[0mself\u001b[0m\u001b[0;34m,\u001b[0m \u001b[0mmethod_name\u001b[0m\u001b[0;34m)\u001b[0m\u001b[0;34m,\u001b[0m\u001b[0;34m\u001b[0m\u001b[0;34m\u001b[0m\u001b[0m\n\u001b[0;32m--> 721\u001b[0;31m                     initial_response_ok=initial_response_ok)\n\u001b[0m\u001b[1;32m    722\u001b[0m                 \u001b[0;31m# 235 == 'Authentication successful'\u001b[0m\u001b[0;34m\u001b[0m\u001b[0;34m\u001b[0m\u001b[0;34m\u001b[0m\u001b[0m\n\u001b[1;32m    723\u001b[0m                 \u001b[0;31m# 503 == 'Error: already authenticated'\u001b[0m\u001b[0;34m\u001b[0m\u001b[0;34m\u001b[0m\u001b[0;34m\u001b[0m\u001b[0m\n",
            "\u001b[0;32m/usr/lib/python3.6/smtplib.py\u001b[0m in \u001b[0;36mauth\u001b[0;34m(self, mechanism, authobject, initial_response_ok)\u001b[0m\n\u001b[1;32m    629\u001b[0m         \u001b[0;32mif\u001b[0m \u001b[0minitial_response\u001b[0m \u001b[0;32mis\u001b[0m \u001b[0;32mnot\u001b[0m \u001b[0;32mNone\u001b[0m\u001b[0;34m:\u001b[0m\u001b[0;34m\u001b[0m\u001b[0;34m\u001b[0m\u001b[0m\n\u001b[1;32m    630\u001b[0m             \u001b[0mresponse\u001b[0m \u001b[0;34m=\u001b[0m \u001b[0mencode_base64\u001b[0m\u001b[0;34m(\u001b[0m\u001b[0minitial_response\u001b[0m\u001b[0;34m.\u001b[0m\u001b[0mencode\u001b[0m\u001b[0;34m(\u001b[0m\u001b[0;34m'ascii'\u001b[0m\u001b[0;34m)\u001b[0m\u001b[0;34m,\u001b[0m \u001b[0meol\u001b[0m\u001b[0;34m=\u001b[0m\u001b[0;34m''\u001b[0m\u001b[0;34m)\u001b[0m\u001b[0;34m\u001b[0m\u001b[0;34m\u001b[0m\u001b[0m\n\u001b[0;32m--> 631\u001b[0;31m             \u001b[0;34m(\u001b[0m\u001b[0mcode\u001b[0m\u001b[0;34m,\u001b[0m \u001b[0mresp\u001b[0m\u001b[0;34m)\u001b[0m \u001b[0;34m=\u001b[0m \u001b[0mself\u001b[0m\u001b[0;34m.\u001b[0m\u001b[0mdocmd\u001b[0m\u001b[0;34m(\u001b[0m\u001b[0;34m\"AUTH\"\u001b[0m\u001b[0;34m,\u001b[0m \u001b[0mmechanism\u001b[0m \u001b[0;34m+\u001b[0m \u001b[0;34m\" \"\u001b[0m \u001b[0;34m+\u001b[0m \u001b[0mresponse\u001b[0m\u001b[0;34m)\u001b[0m\u001b[0;34m\u001b[0m\u001b[0;34m\u001b[0m\u001b[0m\n\u001b[0m\u001b[1;32m    632\u001b[0m         \u001b[0;32melse\u001b[0m\u001b[0;34m:\u001b[0m\u001b[0;34m\u001b[0m\u001b[0;34m\u001b[0m\u001b[0m\n\u001b[1;32m    633\u001b[0m             \u001b[0;34m(\u001b[0m\u001b[0mcode\u001b[0m\u001b[0;34m,\u001b[0m \u001b[0mresp\u001b[0m\u001b[0;34m)\u001b[0m \u001b[0;34m=\u001b[0m \u001b[0mself\u001b[0m\u001b[0;34m.\u001b[0m\u001b[0mdocmd\u001b[0m\u001b[0;34m(\u001b[0m\u001b[0;34m\"AUTH\"\u001b[0m\u001b[0;34m,\u001b[0m \u001b[0mmechanism\u001b[0m\u001b[0;34m)\u001b[0m\u001b[0;34m\u001b[0m\u001b[0;34m\u001b[0m\u001b[0m\n",
            "\u001b[0;32m/usr/lib/python3.6/smtplib.py\u001b[0m in \u001b[0;36mdocmd\u001b[0;34m(self, cmd, args)\u001b[0m\n\u001b[1;32m    419\u001b[0m         \u001b[0;34m\"\"\"Send a command, and return its response code.\"\"\"\u001b[0m\u001b[0;34m\u001b[0m\u001b[0;34m\u001b[0m\u001b[0m\n\u001b[1;32m    420\u001b[0m         \u001b[0mself\u001b[0m\u001b[0;34m.\u001b[0m\u001b[0mputcmd\u001b[0m\u001b[0;34m(\u001b[0m\u001b[0mcmd\u001b[0m\u001b[0;34m,\u001b[0m \u001b[0margs\u001b[0m\u001b[0;34m)\u001b[0m\u001b[0;34m\u001b[0m\u001b[0;34m\u001b[0m\u001b[0m\n\u001b[0;32m--> 421\u001b[0;31m         \u001b[0;32mreturn\u001b[0m \u001b[0mself\u001b[0m\u001b[0;34m.\u001b[0m\u001b[0mgetreply\u001b[0m\u001b[0;34m(\u001b[0m\u001b[0;34m)\u001b[0m\u001b[0;34m\u001b[0m\u001b[0;34m\u001b[0m\u001b[0m\n\u001b[0m\u001b[1;32m    422\u001b[0m \u001b[0;34m\u001b[0m\u001b[0m\n\u001b[1;32m    423\u001b[0m     \u001b[0;31m# std smtp commands\u001b[0m\u001b[0;34m\u001b[0m\u001b[0;34m\u001b[0m\u001b[0;34m\u001b[0m\u001b[0m\n",
            "\u001b[0;32m/usr/lib/python3.6/smtplib.py\u001b[0m in \u001b[0;36mgetreply\u001b[0;34m(self)\u001b[0m\n\u001b[1;32m    392\u001b[0m             \u001b[0;32mif\u001b[0m \u001b[0;32mnot\u001b[0m \u001b[0mline\u001b[0m\u001b[0;34m:\u001b[0m\u001b[0;34m\u001b[0m\u001b[0;34m\u001b[0m\u001b[0m\n\u001b[1;32m    393\u001b[0m                 \u001b[0mself\u001b[0m\u001b[0;34m.\u001b[0m\u001b[0mclose\u001b[0m\u001b[0;34m(\u001b[0m\u001b[0;34m)\u001b[0m\u001b[0;34m\u001b[0m\u001b[0;34m\u001b[0m\u001b[0m\n\u001b[0;32m--> 394\u001b[0;31m                 \u001b[0;32mraise\u001b[0m \u001b[0mSMTPServerDisconnected\u001b[0m\u001b[0;34m(\u001b[0m\u001b[0;34m\"Connection unexpectedly closed\"\u001b[0m\u001b[0;34m)\u001b[0m\u001b[0;34m\u001b[0m\u001b[0;34m\u001b[0m\u001b[0m\n\u001b[0m\u001b[1;32m    395\u001b[0m             \u001b[0;32mif\u001b[0m \u001b[0mself\u001b[0m\u001b[0;34m.\u001b[0m\u001b[0mdebuglevel\u001b[0m \u001b[0;34m>\u001b[0m \u001b[0;36m0\u001b[0m\u001b[0;34m:\u001b[0m\u001b[0;34m\u001b[0m\u001b[0;34m\u001b[0m\u001b[0m\n\u001b[1;32m    396\u001b[0m                 \u001b[0mself\u001b[0m\u001b[0;34m.\u001b[0m\u001b[0m_print_debug\u001b[0m\u001b[0;34m(\u001b[0m\u001b[0;34m'reply:'\u001b[0m\u001b[0;34m,\u001b[0m \u001b[0mrepr\u001b[0m\u001b[0;34m(\u001b[0m\u001b[0mline\u001b[0m\u001b[0;34m)\u001b[0m\u001b[0;34m)\u001b[0m\u001b[0;34m\u001b[0m\u001b[0;34m\u001b[0m\u001b[0m\n",
            "\u001b[0;31mSMTPServerDisconnected\u001b[0m: Connection unexpectedly closed"
          ]
        }
      ]
    },
    {
      "cell_type": "code",
      "metadata": {
        "id": "Yp18oYmicyoQ",
        "colab_type": "code",
        "colab": {}
      },
      "source": [
        ""
      ],
      "execution_count": 0,
      "outputs": []
    }
  ]
}